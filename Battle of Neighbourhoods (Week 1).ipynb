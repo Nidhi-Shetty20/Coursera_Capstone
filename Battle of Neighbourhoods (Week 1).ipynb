{
 "cells": [
  {
   "cell_type": "markdown",
   "metadata": {},
   "source": [
    "# <font color= Orange> Battle of Neighbourhoods (Week 1) </font>"
   ]
  },
  {
   "cell_type": "markdown",
   "metadata": {},
   "source": [
    "# 1. Description of the Problem and Discussion of the Background"
   ]
  },
  {
   "cell_type": "markdown",
   "metadata": {},
   "source": [
    "## A. Introduction"
   ]
  },
  {
   "cell_type": "markdown",
   "metadata": {},
   "source": [
    "## Prospects of Opening an Indian Restaurant in the City of Toronto, Canada."
   ]
  },
  {
   "cell_type": "markdown",
   "metadata": {},
   "source": [
    "<font size = 2> According to a study, Canada contains the worlds's eighth largest Indian diaspora. There has been a 74% rise in the Indian Immigrants since 2001.Not only that, Indians account for one-fourth of Immigrants Population in Canada. Canada is also the third most popular country to pursue Higher studies for Indian students. Toronto is the financial capital of Canada and you can find Indians working in every sector making it one of the best places to set up an Indian Restaurant.</font>"
   ]
  },
  {
   "cell_type": "markdown",
   "metadata": {},
   "source": [
    "<font size = 2>  We will work trough this project step by step. For this week I shall describe the initial data preparation and future steps for the project. </font>"
   ]
  },
  {
   "cell_type": "markdown",
   "metadata": {},
   "source": [
    "<font color=purple><font size= 4> 1.Obtain the Data </font></font>\n",
    "\n",
    "1.a. Name of the Boroughs and Neighbourhoods from web scrapping\n",
    "\n",
    "1.b. Obtain information about selected Boroughs in Toronto.\n",
    "\n",
    "1.c. Use Foresquare Data to obtain info about restaurants.\n",
    "\n",
    "<font color=purple><font size= 4>2.Data Visualization and Some Simple Statistical Analysis. </font></font>\n",
    "\n",
    "<font color=purple><font size= 4>3.Analysis Using Clustering, Specially K-Means Clustering. </font></font>\n",
    "\n",
    "3.a. Maximize the number of clusters.\n",
    "\n",
    "3.b. Visualization using Chloropleth Map\n",
    "\n",
    "<font color=purple><font size= 4>4.Compare the Neighborhoods to Find the Best Place for Starting up a Restaurant.</font>\n",
    "</font>\n",
    "\n",
    "<font color=purple><font size= 4>5.Inference From these Results and related Conclusions. </font>"
   ]
  },
  {
   "cell_type": "markdown",
   "metadata": {},
   "source": [
    "<font color=purple><font size= 4>Target Audience</font></font>\n",
    "\n",
    "1.Business personnel who wants to invest in or open a restaurant. \\\n",
    "2.This analysis will be a comprehensive guide to start or expand restaurants targeting the large pool of office workers in Toronto. \\\n",
    "3.New graduates, to find reasonable lunch/breakfast place close to office. \n",
    "\n",
    "This analysis will give an idea, how benificial it is to open a restaurant and what are the pros and cons of this business.\n"
   ]
  },
  {
   "cell_type": "markdown",
   "metadata": {},
   "source": [
    "## <font color= black> 2. Initial Data Preparation (Week 1)\n",
    "<font size= 2> 2.1. Get The Names of Boroughs, Neighbourhoods and Land Market Price from Wikipedia. \n",
    "\n",
    "<font size= 2> 2.2. Processing the Information From Wiki to select areas of interest. \n",
    "    \n",
    "<font size= 2> 2.3. Get the Coordinates of the Boroughs.\n",
    "\n",
    "I have described these steps detailed as a part of Week 1 Assignment in a python notebook, and also made a more comprehensible .pdf file.\n",
    "\n",
    "So here we start with using Foursquare and use many Exploratory Data Analysis Techniques to learn from data and visualize to strengthen our understanding."
   ]
  },
  {
   "cell_type": "markdown",
   "metadata": {},
   "source": [
    "### Importing Libraries for data analysis."
   ]
  },
  {
   "cell_type": "code",
   "execution_count": 1,
   "metadata": {},
   "outputs": [
    {
     "name": "stdout",
     "output_type": "stream",
     "text": [
      "Requirement already satisfied: folium in c:\\users\\nidhi shetty\\anaconda3\\lib\\site-packages (0.11.0)\n",
      "Requirement already satisfied: branca>=0.3.0 in c:\\users\\nidhi shetty\\anaconda3\\lib\\site-packages (from folium) (0.4.1)\n",
      "Requirement already satisfied: jinja2>=2.9 in c:\\users\\nidhi shetty\\anaconda3\\lib\\site-packages (from folium) (2.11.1)\n",
      "Requirement already satisfied: requests in c:\\users\\nidhi shetty\\anaconda3\\lib\\site-packages (from folium) (2.22.0)\n",
      "Requirement already satisfied: numpy in c:\\users\\nidhi shetty\\anaconda3\\lib\\site-packages (from folium) (1.18.1)\n",
      "Requirement already satisfied: MarkupSafe>=0.23 in c:\\users\\nidhi shetty\\anaconda3\\lib\\site-packages (from jinja2>=2.9->folium) (1.1.1)\n",
      "Requirement already satisfied: chardet<3.1.0,>=3.0.2 in c:\\users\\nidhi shetty\\anaconda3\\lib\\site-packages (from requests->folium) (3.0.4)\n",
      "Requirement already satisfied: certifi>=2017.4.17 in c:\\users\\nidhi shetty\\anaconda3\\lib\\site-packages (from requests->folium) (2019.11.28)\n",
      "Requirement already satisfied: urllib3!=1.25.0,!=1.25.1,<1.26,>=1.21.1 in c:\\users\\nidhi shetty\\anaconda3\\lib\\site-packages (from requests->folium) (1.25.8)\n",
      "Requirement already satisfied: idna<2.9,>=2.5 in c:\\users\\nidhi shetty\\anaconda3\\lib\\site-packages (from requests->folium) (2.8)\n"
     ]
    }
   ],
   "source": [
    "import pandas as pd # library for data analsysis\n",
    "import numpy as np\n",
    "pd.set_option('display.max_columns', None)\n",
    "pd.set_option('display.max_rows', None)\n",
    "#!conda install -c conda-forge geopy --yes # uncomment this line if you haven't completed the Foursquare API lab\n",
    "from geopy.geocoders import Nominatim # convert an address into latitude and longitude values\n",
    "import requests # library to handle requests\n",
    "from pandas.io.json import json_normalize # tranform JSON file into a pandas dataframe\n",
    "# Matplotlib and associated plotting modules\n",
    "import matplotlib.cm as cm\n",
    "import matplotlib.colors as colors\n",
    "# import k-means from clustering stage\n",
    "from sklearn.cluster import KMeans\n",
    "!pip install folium"
   ]
  },
  {
   "cell_type": "markdown",
   "metadata": {},
   "source": [
    "### 2.1. Get The Names of Boroughs, Neighbourhoods and Land Market Price from Wikipedia. "
   ]
  },
  {
   "cell_type": "code",
   "execution_count": 2,
   "metadata": {},
   "outputs": [
    {
     "data": {
      "text/html": [
       "<div>\n",
       "<style scoped>\n",
       "    .dataframe tbody tr th:only-of-type {\n",
       "        vertical-align: middle;\n",
       "    }\n",
       "\n",
       "    .dataframe tbody tr th {\n",
       "        vertical-align: top;\n",
       "    }\n",
       "\n",
       "    .dataframe thead th {\n",
       "        text-align: right;\n",
       "    }\n",
       "</style>\n",
       "<table border=\"1\" class=\"dataframe\">\n",
       "  <thead>\n",
       "    <tr style=\"text-align: right;\">\n",
       "      <th></th>\n",
       "      <th>Postal Code</th>\n",
       "      <th>Borough</th>\n",
       "      <th>Neighborhood</th>\n",
       "      <th>Market_Value_per Sq.ft</th>\n",
       "    </tr>\n",
       "  </thead>\n",
       "  <tbody>\n",
       "    <tr>\n",
       "      <th>0</th>\n",
       "      <td>M9Z</td>\n",
       "      <td>Not assigned</td>\n",
       "      <td>NaN</td>\n",
       "      <td>NaN</td>\n",
       "    </tr>\n",
       "    <tr>\n",
       "      <th>1</th>\n",
       "      <td>M9Y</td>\n",
       "      <td>Not assigned</td>\n",
       "      <td>NaN</td>\n",
       "      <td>NaN</td>\n",
       "    </tr>\n",
       "    <tr>\n",
       "      <th>2</th>\n",
       "      <td>M9X</td>\n",
       "      <td>Not assigned</td>\n",
       "      <td>NaN</td>\n",
       "      <td>NaN</td>\n",
       "    </tr>\n",
       "    <tr>\n",
       "      <th>3</th>\n",
       "      <td>M9W</td>\n",
       "      <td>Etobicoke</td>\n",
       "      <td>Northwest</td>\n",
       "      <td>NaN</td>\n",
       "    </tr>\n",
       "    <tr>\n",
       "      <th>4</th>\n",
       "      <td>M9V</td>\n",
       "      <td>Etobicoke</td>\n",
       "      <td>South Steeles / Silverstone / Humbergate / Jam...</td>\n",
       "      <td>NaN</td>\n",
       "    </tr>\n",
       "  </tbody>\n",
       "</table>\n",
       "</div>"
      ],
      "text/plain": [
       "  Postal Code       Borough  \\\n",
       "0         M9Z  Not assigned   \n",
       "1         M9Y  Not assigned   \n",
       "2         M9X  Not assigned   \n",
       "3         M9W     Etobicoke   \n",
       "4         M9V     Etobicoke   \n",
       "\n",
       "                                        Neighborhood  Market_Value_per Sq.ft  \n",
       "0                                                NaN                     NaN  \n",
       "1                                                NaN                     NaN  \n",
       "2                                                NaN                     NaN  \n",
       "3                                          Northwest                     NaN  \n",
       "4  South Steeles / Silverstone / Humbergate / Jam...                     NaN  "
      ]
     },
     "execution_count": 2,
     "metadata": {},
     "output_type": "execute_result"
    }
   ],
   "source": [
    "tpc1 = pd.read_csv(r'C:\\Users\\Nidhi Shetty\\Desktop\\TorontoPC.csv')\n",
    "tpc1.head()"
   ]
  },
  {
   "cell_type": "code",
   "execution_count": 3,
   "metadata": {},
   "outputs": [
    {
     "data": {
      "text/html": [
       "<div>\n",
       "<style scoped>\n",
       "    .dataframe tbody tr th:only-of-type {\n",
       "        vertical-align: middle;\n",
       "    }\n",
       "\n",
       "    .dataframe tbody tr th {\n",
       "        vertical-align: top;\n",
       "    }\n",
       "\n",
       "    .dataframe thead th {\n",
       "        text-align: right;\n",
       "    }\n",
       "</style>\n",
       "<table border=\"1\" class=\"dataframe\">\n",
       "  <thead>\n",
       "    <tr style=\"text-align: right;\">\n",
       "      <th></th>\n",
       "      <th>Postal Code</th>\n",
       "      <th>Latitude</th>\n",
       "      <th>Longitude</th>\n",
       "    </tr>\n",
       "  </thead>\n",
       "  <tbody>\n",
       "    <tr>\n",
       "      <th>0</th>\n",
       "      <td>M1B</td>\n",
       "      <td>43.806686</td>\n",
       "      <td>-79.194353</td>\n",
       "    </tr>\n",
       "    <tr>\n",
       "      <th>1</th>\n",
       "      <td>M1C</td>\n",
       "      <td>43.784535</td>\n",
       "      <td>-79.160497</td>\n",
       "    </tr>\n",
       "    <tr>\n",
       "      <th>2</th>\n",
       "      <td>M1E</td>\n",
       "      <td>43.763573</td>\n",
       "      <td>-79.188711</td>\n",
       "    </tr>\n",
       "    <tr>\n",
       "      <th>3</th>\n",
       "      <td>M1G</td>\n",
       "      <td>43.770992</td>\n",
       "      <td>-79.216917</td>\n",
       "    </tr>\n",
       "    <tr>\n",
       "      <th>4</th>\n",
       "      <td>M1H</td>\n",
       "      <td>43.773136</td>\n",
       "      <td>-79.239476</td>\n",
       "    </tr>\n",
       "  </tbody>\n",
       "</table>\n",
       "</div>"
      ],
      "text/plain": [
       "  Postal Code   Latitude  Longitude\n",
       "0         M1B  43.806686 -79.194353\n",
       "1         M1C  43.784535 -79.160497\n",
       "2         M1E  43.763573 -79.188711\n",
       "3         M1G  43.770992 -79.216917\n",
       "4         M1H  43.773136 -79.239476"
      ]
     },
     "execution_count": 3,
     "metadata": {},
     "output_type": "execute_result"
    }
   ],
   "source": [
    "tpc2= pd.read_csv(r'C:\\Users\\Nidhi Shetty\\Desktop\\Geospatial_Coordinates.csv')\n",
    "tpc2.head()"
   ]
  },
  {
   "cell_type": "code",
   "execution_count": 4,
   "metadata": {},
   "outputs": [],
   "source": [
    "\n",
    "#Replacing the \"Not assigned\" values in Column 'Borough' to the standard NaN.\n",
    "tpc1[\"Borough\"].replace(\"Not assigned\", np.nan, inplace = True)\n",
    "\n",
    "#Dropping the rows with NaN values in the 'Borough'.\n",
    "tpc1.dropna(subset=[\"Borough\"], axis=0, inplace=True)\n",
    "\n",
    "# reset index, because we dropped rows\n",
    "tpc1.reset_index(drop=True, inplace=True)\n"
   ]
  },
  {
   "cell_type": "code",
   "execution_count": 5,
   "metadata": {},
   "outputs": [
    {
     "data": {
      "text/html": [
       "<div>\n",
       "<style scoped>\n",
       "    .dataframe tbody tr th:only-of-type {\n",
       "        vertical-align: middle;\n",
       "    }\n",
       "\n",
       "    .dataframe tbody tr th {\n",
       "        vertical-align: top;\n",
       "    }\n",
       "\n",
       "    .dataframe thead th {\n",
       "        text-align: right;\n",
       "    }\n",
       "</style>\n",
       "<table border=\"1\" class=\"dataframe\">\n",
       "  <thead>\n",
       "    <tr style=\"text-align: right;\">\n",
       "      <th></th>\n",
       "      <th>Postal Code</th>\n",
       "      <th>Borough</th>\n",
       "      <th>Neighborhood</th>\n",
       "      <th>Market_Value_per Sq.ft</th>\n",
       "    </tr>\n",
       "  </thead>\n",
       "  <tbody>\n",
       "    <tr>\n",
       "      <th>0</th>\n",
       "      <td>M9W</td>\n",
       "      <td>Etobicoke</td>\n",
       "      <td>Northwest</td>\n",
       "      <td>NaN</td>\n",
       "    </tr>\n",
       "    <tr>\n",
       "      <th>1</th>\n",
       "      <td>M9V</td>\n",
       "      <td>Etobicoke</td>\n",
       "      <td>South Steeles , Silverstone , Humbergate , Jam...</td>\n",
       "      <td>NaN</td>\n",
       "    </tr>\n",
       "    <tr>\n",
       "      <th>2</th>\n",
       "      <td>M9R</td>\n",
       "      <td>Etobicoke</td>\n",
       "      <td>Kingsview Village , St. Phillips , Martin Grov...</td>\n",
       "      <td>NaN</td>\n",
       "    </tr>\n",
       "    <tr>\n",
       "      <th>3</th>\n",
       "      <td>M9P</td>\n",
       "      <td>Etobicoke</td>\n",
       "      <td>Westmount</td>\n",
       "      <td>NaN</td>\n",
       "    </tr>\n",
       "    <tr>\n",
       "      <th>4</th>\n",
       "      <td>M9N</td>\n",
       "      <td>York</td>\n",
       "      <td>Weston</td>\n",
       "      <td>NaN</td>\n",
       "    </tr>\n",
       "  </tbody>\n",
       "</table>\n",
       "</div>"
      ],
      "text/plain": [
       "  Postal Code    Borough                                       Neighborhood  \\\n",
       "0         M9W  Etobicoke                                          Northwest   \n",
       "1         M9V  Etobicoke  South Steeles , Silverstone , Humbergate , Jam...   \n",
       "2         M9R  Etobicoke  Kingsview Village , St. Phillips , Martin Grov...   \n",
       "3         M9P  Etobicoke                                          Westmount   \n",
       "4         M9N       York                                             Weston   \n",
       "\n",
       "   Market_Value_per Sq.ft  \n",
       "0                     NaN  \n",
       "1                     NaN  \n",
       "2                     NaN  \n",
       "3                     NaN  \n",
       "4                     NaN  "
      ]
     },
     "execution_count": 5,
     "metadata": {},
     "output_type": "execute_result"
    }
   ],
   "source": [
    "#Replacing the '/' by ',' .\n",
    "tpc1['Neighborhood']=tpc1['Neighborhood'].str.replace('/', ',')\n",
    "tpc1.head()"
   ]
  },
  {
   "cell_type": "code",
   "execution_count": 6,
   "metadata": {},
   "outputs": [
    {
     "data": {
      "text/html": [
       "<div>\n",
       "<style scoped>\n",
       "    .dataframe tbody tr th:only-of-type {\n",
       "        vertical-align: middle;\n",
       "    }\n",
       "\n",
       "    .dataframe tbody tr th {\n",
       "        vertical-align: top;\n",
       "    }\n",
       "\n",
       "    .dataframe thead th {\n",
       "        text-align: right;\n",
       "    }\n",
       "</style>\n",
       "<table border=\"1\" class=\"dataframe\">\n",
       "  <thead>\n",
       "    <tr style=\"text-align: right;\">\n",
       "      <th></th>\n",
       "      <th>Postal Code</th>\n",
       "      <th>Borough</th>\n",
       "      <th>Neighbourhood</th>\n",
       "      <th>Market_Value_per Sq.ft</th>\n",
       "      <th>Latitude</th>\n",
       "      <th>Longitude</th>\n",
       "    </tr>\n",
       "  </thead>\n",
       "  <tbody>\n",
       "    <tr>\n",
       "      <th>0</th>\n",
       "      <td>M9W</td>\n",
       "      <td>Etobicoke</td>\n",
       "      <td>Northwest</td>\n",
       "      <td>NaN</td>\n",
       "      <td>43.706748</td>\n",
       "      <td>-79.594054</td>\n",
       "    </tr>\n",
       "    <tr>\n",
       "      <th>1</th>\n",
       "      <td>M9V</td>\n",
       "      <td>Etobicoke</td>\n",
       "      <td>South Steeles , Silverstone , Humbergate , Jam...</td>\n",
       "      <td>NaN</td>\n",
       "      <td>43.739416</td>\n",
       "      <td>-79.588437</td>\n",
       "    </tr>\n",
       "    <tr>\n",
       "      <th>2</th>\n",
       "      <td>M9R</td>\n",
       "      <td>Etobicoke</td>\n",
       "      <td>Kingsview Village , St. Phillips , Martin Grov...</td>\n",
       "      <td>NaN</td>\n",
       "      <td>43.688905</td>\n",
       "      <td>-79.554724</td>\n",
       "    </tr>\n",
       "    <tr>\n",
       "      <th>3</th>\n",
       "      <td>M9P</td>\n",
       "      <td>Etobicoke</td>\n",
       "      <td>Westmount</td>\n",
       "      <td>NaN</td>\n",
       "      <td>43.696319</td>\n",
       "      <td>-79.532242</td>\n",
       "    </tr>\n",
       "    <tr>\n",
       "      <th>4</th>\n",
       "      <td>M9N</td>\n",
       "      <td>York</td>\n",
       "      <td>Weston</td>\n",
       "      <td>NaN</td>\n",
       "      <td>43.706876</td>\n",
       "      <td>-79.518188</td>\n",
       "    </tr>\n",
       "  </tbody>\n",
       "</table>\n",
       "</div>"
      ],
      "text/plain": [
       "  Postal Code    Borough                                      Neighbourhood  \\\n",
       "0         M9W  Etobicoke                                          Northwest   \n",
       "1         M9V  Etobicoke  South Steeles , Silverstone , Humbergate , Jam...   \n",
       "2         M9R  Etobicoke  Kingsview Village , St. Phillips , Martin Grov...   \n",
       "3         M9P  Etobicoke                                          Westmount   \n",
       "4         M9N       York                                             Weston   \n",
       "\n",
       "   Market_Value_per Sq.ft   Latitude  Longitude  \n",
       "0                     NaN  43.706748 -79.594054  \n",
       "1                     NaN  43.739416 -79.588437  \n",
       "2                     NaN  43.688905 -79.554724  \n",
       "3                     NaN  43.696319 -79.532242  \n",
       "4                     NaN  43.706876 -79.518188  "
      ]
     },
     "execution_count": 6,
     "metadata": {},
     "output_type": "execute_result"
    }
   ],
   "source": [
    "#Merging the two dataframes using 'inner' join operator\n",
    "tpcfinal= tpc1.merge(tpc2, how ='inner')\n",
    "tpcfinal.head()\n",
    "tpcfinal.rename(columns={'Neighborhood': 'Neighbourhood'}, inplace=True)\n",
    "tpcfinal.head()"
   ]
  },
  {
   "cell_type": "code",
   "execution_count": 7,
   "metadata": {},
   "outputs": [
    {
     "name": "stdout",
     "output_type": "stream",
     "text": [
      "The dataframe has 10 boroughs and 103 neighborhoods.\n"
     ]
    }
   ],
   "source": [
    "print('The dataframe has {} boroughs and {} neighborhoods.'.format(\n",
    "        len(tpcfinal['Borough'].unique()),\n",
    "        tpcfinal.shape[0]\n",
    "    )\n",
    ")"
   ]
  },
  {
   "cell_type": "markdown",
   "metadata": {},
   "source": [
    "### 2.2. Processing the Information From Wiki to select areas of interest."
   ]
  },
  {
   "cell_type": "code",
   "execution_count": 8,
   "metadata": {},
   "outputs": [
    {
     "name": "stdout",
     "output_type": "stream",
     "text": [
      "['Etobicoke', 'York', 'North York', 'East Toronto', 'Mississauga', 'Downtown Toronto', 'West Toronto', 'Central Toronto', 'East York', 'Scarborough']\n"
     ]
    }
   ],
   "source": [
    "#Next job is to select boroughs containing the word Toronto\n",
    "\n",
    "# check the borough names at first \n",
    "unique_boroughs = list(tpcfinal.Borough.unique())\n",
    "print(unique_boroughs)\n",
    "# select boroughs with word Toronto in it\n",
    "Tor_boroughs = ['East Toronto', 'Central Toronto', 'Downtown Toronto', 'West Toronto']"
   ]
  },
  {
   "cell_type": "markdown",
   "metadata": {},
   "source": [
    "### 2.3. Get the Coordinates of Toronto City."
   ]
  },
  {
   "cell_type": "code",
   "execution_count": 9,
   "metadata": {},
   "outputs": [
    {
     "name": "stdout",
     "output_type": "stream",
     "text": [
      "The geographical coordinate Toronto City are 43.6534817, -79.3839347.\n"
     ]
    }
   ],
   "source": [
    "address = 'Toronto City, CA'\n",
    "\n",
    "geolocator = Nominatim(user_agent=\"TO_explorer\")\n",
    "location = geolocator.geocode(address)\n",
    "latitude = location.latitude\n",
    "longitude = location.longitude\n",
    "print('The geographical coordinate Toronto City are {}, {}.'.format(latitude, longitude))"
   ]
  },
  {
   "cell_type": "markdown",
   "metadata": {},
   "source": [
    "### 2.4 Creating a data frame and a map for Toronto."
   ]
  },
  {
   "cell_type": "code",
   "execution_count": 10,
   "metadata": {},
   "outputs": [
    {
     "name": "stdout",
     "output_type": "stream",
     "text": [
      "Shape of Dataframe with boroughs containing the word Toronto:  (39, 6)\n"
     ]
    },
    {
     "data": {
      "text/html": [
       "<div>\n",
       "<style scoped>\n",
       "    .dataframe tbody tr th:only-of-type {\n",
       "        vertical-align: middle;\n",
       "    }\n",
       "\n",
       "    .dataframe tbody tr th {\n",
       "        vertical-align: top;\n",
       "    }\n",
       "\n",
       "    .dataframe thead th {\n",
       "        text-align: right;\n",
       "    }\n",
       "</style>\n",
       "<table border=\"1\" class=\"dataframe\">\n",
       "  <thead>\n",
       "    <tr style=\"text-align: right;\">\n",
       "      <th></th>\n",
       "      <th>Postal Code</th>\n",
       "      <th>Borough</th>\n",
       "      <th>Neighbourhood</th>\n",
       "      <th>Market_Value_per Sq.ft</th>\n",
       "      <th>Latitude</th>\n",
       "      <th>Longitude</th>\n",
       "    </tr>\n",
       "  </thead>\n",
       "  <tbody>\n",
       "    <tr>\n",
       "      <th>0</th>\n",
       "      <td>M7Y</td>\n",
       "      <td>East Toronto</td>\n",
       "      <td>Business reply mail Processing Centre</td>\n",
       "      <td>90.0</td>\n",
       "      <td>43.662744</td>\n",
       "      <td>-79.321558</td>\n",
       "    </tr>\n",
       "    <tr>\n",
       "      <th>1</th>\n",
       "      <td>M7A</td>\n",
       "      <td>Downtown Toronto</td>\n",
       "      <td>Queen's Park , Ontario Provincial Government</td>\n",
       "      <td>200.0</td>\n",
       "      <td>43.662301</td>\n",
       "      <td>-79.389494</td>\n",
       "    </tr>\n",
       "    <tr>\n",
       "      <th>2</th>\n",
       "      <td>M6S</td>\n",
       "      <td>West Toronto</td>\n",
       "      <td>Runnymede , Swansea</td>\n",
       "      <td>100.0</td>\n",
       "      <td>43.651571</td>\n",
       "      <td>-79.484450</td>\n",
       "    </tr>\n",
       "    <tr>\n",
       "      <th>3</th>\n",
       "      <td>M6R</td>\n",
       "      <td>West Toronto</td>\n",
       "      <td>Parkdale , Roncesvalles</td>\n",
       "      <td>100.0</td>\n",
       "      <td>43.648960</td>\n",
       "      <td>-79.456325</td>\n",
       "    </tr>\n",
       "    <tr>\n",
       "      <th>4</th>\n",
       "      <td>M6P</td>\n",
       "      <td>West Toronto</td>\n",
       "      <td>High Park , The Junction South</td>\n",
       "      <td>100.0</td>\n",
       "      <td>43.661608</td>\n",
       "      <td>-79.464763</td>\n",
       "    </tr>\n",
       "  </tbody>\n",
       "</table>\n",
       "</div>"
      ],
      "text/plain": [
       "  Postal Code           Borough                                 Neighbourhood  \\\n",
       "0         M7Y      East Toronto         Business reply mail Processing Centre   \n",
       "1         M7A  Downtown Toronto  Queen's Park , Ontario Provincial Government   \n",
       "2         M6S      West Toronto                           Runnymede , Swansea   \n",
       "3         M6R      West Toronto                       Parkdale , Roncesvalles   \n",
       "4         M6P      West Toronto                High Park , The Junction South   \n",
       "\n",
       "   Market_Value_per Sq.ft   Latitude  Longitude  \n",
       "0                    90.0  43.662744 -79.321558  \n",
       "1                   200.0  43.662301 -79.389494  \n",
       "2                   100.0  43.651571 -79.484450  \n",
       "3                   100.0  43.648960 -79.456325  \n",
       "4                   100.0  43.661608 -79.464763  "
      ]
     },
     "execution_count": 10,
     "metadata": {},
     "output_type": "execute_result"
    }
   ],
   "source": [
    "Tor_series = tpcfinal[\"Borough\"].isin(Tor_boroughs)\n",
    "Toronto = tpcfinal[Tor_series]\n",
    "\n",
    "\n",
    "\n",
    "Toronto.index = np.arange(0, len(Toronto))\n",
    "print (\"Shape of Dataframe with boroughs containing the word Toronto: \", Toronto.shape)\n",
    "Toronto.head()"
   ]
  },
  {
   "cell_type": "code",
   "execution_count": 12,
   "metadata": {},
   "outputs": [
    {
     "data": {
      "text/html": [
       "<div style=\"width:100%;\"><div style=\"position:relative;width:100%;height:0;padding-bottom:60%;\"><span style=\"color:#565656\">Make this Notebook Trusted to load map: File -> Trust Notebook</span><iframe src=\"about:blank\" style=\"position:absolute;width:100%;height:100%;left:0;top:0;border:none !important;\" data-html=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 onload=\"this.contentDocument.open();this.contentDocument.write(atob(this.getAttribute('data-html')));this.contentDocument.close();\" allowfullscreen webkitallowfullscreen mozallowfullscreen></iframe></div></div>"
      ],
      "text/plain": [
       "<folium.folium.Map at 0x24eac428208>"
      ]
     },
     "execution_count": 12,
     "metadata": {},
     "output_type": "execute_result"
    }
   ],
   "source": [
    "import folium\n",
    "# create map of Toronto using latitude and longitude values\n",
    "map_Toronto = folium.Map(location=[latitude, longitude], zoom_start=10)\n",
    "\n",
    "# add markers to map\n",
    "for lat, lng, borough, neighborhood in zip(Toronto['Latitude'], Toronto['Longitude'], Toronto['Borough'], Toronto['Neighbourhood']):\n",
    "    label = '{}, {}'.format(neighborhood, borough)\n",
    "    label = folium.Popup(label, parse_html=True)\n",
    "    folium.CircleMarker(\n",
    "        [lat, lng],\n",
    "        radius=5,\n",
    "        popup=label,\n",
    "        color='blue',\n",
    "        fill=True,\n",
    "        fill_color='#3186cc',\n",
    "        fill_opacity=0.7,\n",
    "        parse_html=False).add_to(map_Toronto)  \n",
    "    \n",
    "map_Toronto"
   ]
  },
  {
   "cell_type": "code",
   "execution_count": null,
   "metadata": {},
   "outputs": [],
   "source": []
  },
  {
   "cell_type": "code",
   "execution_count": null,
   "metadata": {},
   "outputs": [],
   "source": []
  },
  {
   "cell_type": "code",
   "execution_count": null,
   "metadata": {},
   "outputs": [],
   "source": []
  }
 ],
 "metadata": {
  "kernelspec": {
   "display_name": "Python 3",
   "language": "python",
   "name": "python3"
  },
  "language_info": {
   "codemirror_mode": {
    "name": "ipython",
    "version": 3
   },
   "file_extension": ".py",
   "mimetype": "text/x-python",
   "name": "python",
   "nbconvert_exporter": "python",
   "pygments_lexer": "ipython3",
   "version": "3.7.6"
  }
 },
 "nbformat": 4,
 "nbformat_minor": 4
}
